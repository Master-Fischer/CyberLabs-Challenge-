{
 "cells": [
  {
   "cell_type": "markdown",
   "metadata": {},
   "source": [
    "# Codigo para o desafio da CyberLabs, treinar um modelo para classificar cervejas e refrigerantes\n",
    "\n",
    "\n",
    "\n",
    "*Tive alguns problemas em tentar treinar o modelo no jupyter notebook para melhor perfomance copiar o codigo para um arquivo .py e rodar"
   ]
  },
  {
   "cell_type": "code",
   "execution_count": 2,
   "metadata": {},
   "outputs": [
    {
     "name": "stderr",
     "output_type": "stream",
     "text": [
      "D:\\Anaconda3\\lib\\site-packages\\h5py\\__init__.py:36: FutureWarning: Conversion of the second argument of issubdtype from `float` to `np.floating` is deprecated. In future, it will be treated as `np.float64 == np.dtype(float).type`.\n",
      "  from ._conv import register_converters as _register_converters\n",
      "Using TensorFlow backend.\n"
     ]
    }
   ],
   "source": [
    "import random\n",
    "import os\n",
    "import cv2\n",
    "import numpy as np\n",
    "import matplotlib.pyplot as plt\n",
    "from keras.utils import to_categorical\n",
    "from keras.optimizers import Adam\n",
    "from keras.preprocessing.image import ImageDataGenerator, random_rotation, random_shift\n",
    "from keras.models import Sequential, Model\n",
    "from keras.layers import Dense, Activation, Flatten, Input, Dropout\n",
    "from keras.layers.convolutional import MaxPooling2D, Conv2D"
   ]
  },
  {
   "cell_type": "code",
   "execution_count": 3,
   "metadata": {},
   "outputs": [],
   "source": [
    "#Cria CNN usando arquitetura LeNet\n",
    "def LeNet(width,height,depth):\n",
    "\n",
    "    shape = (width,height, depth)\n",
    "    \n",
    "    model = Sequential()\n",
    "    \n",
    "    model.add(Conv2D(20,(5,5),input_shape=shape))\n",
    "    model.add(Activation('relu'))\n",
    "    model.add(MaxPooling2D(pool_size=(2,2), strides=(2,2)))\n",
    "    \n",
    "    model.add(Conv2D(50,(5,5)))\n",
    "    model.add(Activation('relu'))\n",
    "    model.add(MaxPooling2D(pool_size=(2,2), strides=(2,2)))\n",
    "    \n",
    "    model.add(Flatten())\n",
    "    model.add(Dense(500))\n",
    "    model.add(Activation(\"relu\"))\n",
    "    model.add(Dropout(0.5))\n",
    "    model.add(Dense(2))\n",
    "    model.add(Activation('softmax'))\n",
    "    \n",
    "    \n",
    "    return model"
   ]
  },
  {
   "cell_type": "code",
   "execution_count": 4,
   "metadata": {},
   "outputs": [],
   "source": [
    "#Pega as imagens redimensiona elas \n",
    "def get_images(directory, size):\n",
    "    \n",
    "    data = []\n",
    "    labels = []\n",
    "    folders = os.listdir(directory)\n",
    "\n",
    "    for folder in folders:\n",
    "        images = os.listdir(directory+\"\\\\\"+folder)\n",
    "        for img in images:\n",
    "            image = cv2.imread(directory+\"\\\\\"+folder+\"\\\\\"+img)\n",
    "            image = cv2.resize(image, (size,size)) \n",
    "            data.append(image)\n",
    "            if folder == \"Beers\":\n",
    "                labels.append(1) # 1 para cervejas\n",
    "            else:\n",
    "                labels.append(0) # 0 para refrigerantes\n",
    "#Retorna uma tupla de dois vetores ordenados com as imagens, e labels respectivamente\n",
    "    return (data,labels)"
   ]
  },
  {
   "cell_type": "code",
   "execution_count": 5,
   "metadata": {},
   "outputs": [],
   "source": [
    "bs = 10\n",
    "epochs = 200\n",
    "\n",
    "#Carrega as Imagens, dividindo em train_data e test_data\n",
    "train_data = []\n",
    "train_labels = []\n",
    "\n",
    "test_data = []\n",
    "test_labels = []\n",
    "\n",
    "(train_data, train_labels) = get_images(\"Images\", 100)\n",
    "(test_data, test_labels) = get_images(\"Test\", 100)\n",
    "\n",
    "#Normaliza as imagens, reduz tempo de treinamento/poder computacional necessario tambem transorma os vetores em \n",
    "train_data = np.array(train_data, dtype='float')/255.0 \n",
    "test_data = np.array(test_data, dtype='float')/255.0\n",
    "\n",
    "train_labels = np.array(train_labels)\n",
    "test_labels = np.array(test_labels)\n",
    "\n",
    "#One-hot encoding dos labels []\n",
    "train_labels = to_categorical(train_labels, num_classes=2)\n",
    "test_labels = to_categorical(test_labels, num_classes=2)\n",
    "\n",
    "#Inicializa Modelo\n",
    "model = LeNet(100,100,3)\n",
    "model.compile(optimizer=Adam(lr=0.0001), loss='binary_crossentropy', metrics=['accuracy'])"
   ]
  },
  {
   "cell_type": "code",
   "execution_count": 16,
   "metadata": {},
   "outputs": [
    {
     "data": {
      "text/plain": [
       "<matplotlib.image.AxesImage at 0x28d13666780>"
      ]
     },
     "execution_count": 16,
     "metadata": {},
     "output_type": "execute_result"
    },
    {
     "data": {
      "image/png": "[encoded data removed]",
      "text/plain": [
       "<matplotlib.figure.Figure at 0x28d15d9b160>"
      ]
     },
     "metadata": {},
     "output_type": "display_data"
    }
   ],
   "source": [
    "#Inicializa o Image augmentor do keras para dar mais variedade ao dataset\n",
    "aug = ImageDataGenerator(rotation_range=40, width_shift_range=0.2,height_shift_range=0.2, shear_range=0.2, zoom_range=0.4,horizontal_flip=True, fill_mode=\"nearest\")\n",
    "\n",
    "#Prepara o dataset auumentado as imagens\n",
    "train_images = aug.flow(train_data,train_labels, batch_size=bs)\n",
    "test_images = aug.flow(test_data,test_labels, batch_size=bs)\n",
    "\n",
    "#Exemplo de imagem axumentada\n",
    "img = train_images[0][0][0]\n",
    "plt.imshow(img)"
   ]
  },
  {
   "cell_type": "code",
   "execution_count": null,
   "metadata": {},
   "outputs": [],
   "source": [
    "#Treina o modelo\n",
    "model.fit_generator(train_images,steps_per_epoch=100, epochs=epochs)"
   ]
  },
  {
   "cell_type": "code",
   "execution_count": null,
   "metadata": {},
   "outputs": [],
   "source": [
    "score = model.evaluate_generator(test_batches)\n",
    "#Mostra accuracy final\n",
    "print(score[1])"
   ]
  }
 ],
 "metadata": {
  "kernelspec": {
   "display_name": "Python 3",
   "language": "python",
   "name": "python3"
  },
  "language_info": {
   "codemirror_mode": {
    "name": "ipython",
    "version": 3
   },
   "file_extension": ".py",
   "mimetype": "text/x-python",
   "name": "python",
   "nbconvert_exporter": "python",
   "pygments_lexer": "ipython3",
   "version": "3.6.4"
  }
 },
 "nbformat": 4,
 "nbformat_minor": 2
}
